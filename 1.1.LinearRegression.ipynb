{
 "cells": [
  {
   "cell_type": "markdown",
   "id": "b9e59e2a",
   "metadata": {},
   "source": [
    "- 1.1 Linear Regression\n",
    "\n",
    "- 1.2.what is Regression\n",
    "\n",
    "- 1.3 What is best fit line\n",
    "\n",
    "- 1.4.Mathematical model of Linear Regression\n",
    "\n",
    "- 1.5.Performing step by step mathematical problem of Linear Regression\n",
    "\n",
    "- 1.6 Create and predict model using Sklearn library, Most commonly used in ML."
   ]
  },
  {
   "cell_type": "markdown",
   "id": "bf0b2654",
   "metadata": {},
   "source": [
    "# 1.1 Linear Regression:"
   ]
  },
  {
   "cell_type": "markdown",
   "id": "366adff4",
   "metadata": {},
   "source": [
    "1. what is Linear or linearity:\n",
    "- Linearity is the property of mathametics relationship that can be graphically represented as a straight line."
   ]
  },
  {
   "cell_type": "code",
   "execution_count": 1,
   "id": "d4c1d5b5",
   "metadata": {},
   "outputs": [],
   "source": [
    "#importing some necessary modules for data handling,analysis and visualization required before processig towards Linear regression.\n",
    "import numpy as np                 # data analysis and handling\n",
    "import pandas as pd                #data analysis and handling\n",
    "import matplotlib.pyplot as plt    #visualization\n",
    "import seaborn as sns              #visualization\n",
    "import warnings                    #to avoid warnings\n",
    "warnings.filterwarnings('ignore')"
   ]
  },
  {
   "cell_type": "code",
   "execution_count": 2,
   "id": "85cfd55f",
   "metadata": {},
   "outputs": [
    {
     "data": {
      "image/png": "[encoded data removed]",
      "text/plain": [
       "<Figure size 432x288 with 1 Axes>"
      ]
     },
     "metadata": {
      "needs_background": "light"
     },
     "output_type": "display_data"
    }
   ],
   "source": [
    "#Just visualizing how a simple linear line looks like\n",
    "x=np.arange(5)\n",
    "plt.plot(x,'-bo') \n",
    "plt.xlabel('x-axis')\n",
    "plt.ylabel('y-axis')\n",
    "plt.title('fig1:Positive Liear-Line')\n",
    "plt.grid(True)"
   ]
  },
  {
   "cell_type": "markdown",
   "id": "3821424f",
   "metadata": {},
   "source": [
    "# line equation:\n",
    "- linear line(straight line) shown above is having some equations to predict Y- axis\n",
    "![title](line-graph-equation.jpg)\n",
    "- y=mx+c\n",
    "- m=gradient(slope)\n",
    "- gradient= rate of change of y w.r.t x\n",
    "- c=intercept\n",
    "- intercept= value of y when x is zero."
   ]
  },
  {
   "cell_type": "code",
   "execution_count": 3,
   "id": "1377724f",
   "metadata": {},
   "outputs": [
    {
     "data": {
      "image/png": "[encoded data removed]",
      "text/plain": [
       "<Figure size 432x288 with 1 Axes>"
      ]
     },
     "metadata": {
      "needs_background": "light"
     },
     "output_type": "display_data"
    }
   ],
   "source": [
    "#this is also an example of linear line\n",
    "x = range(4,0,-1)\n",
    "plt.plot(x,'-bo') \n",
    "plt.xlabel('x-axis')\n",
    "plt.ylabel('y-axis')\n",
    "plt.title('Negative Liear-Line')\n",
    "plt.grid(True)"
   ]
  },
  {
   "cell_type": "markdown",
   "id": "69a7944c",
   "metadata": {},
   "source": [
    "\n",
    "# 1.2.what is Regression:\n",
    "- A measure of the relation between the mean value of one variable (e.g. output) and corresponding value of other variables(eg.time and cost)."
   ]
  },
  {
   "cell_type": "markdown",
   "id": "e6a2b3e9",
   "metadata": {},
   "source": [
    "# Regression Analysis and why we use it:\n",
    "- Regression analysis is form of predictive modelling technique.\n",
    "- It investigates relationship between dependent(target) and independent(predictor) variables.\n",
    "# why we use:\n",
    "- Regression analysis is an important tool for modelling and analyzing data, here we fit a curve/line to data points, in such a manner that differences between distances of data points from curve or line is minimized.\n",
    "\n",
    "# Benefits of using Regression analysis?\n",
    "- It indicates significant relationship between dependent and independent variables.\n",
    "- it indicates the strength of impact of multiple independent variables on a dependent variables.\n",
    "# Regression analysis types: \n",
    "- Linear Regression.(one independent variable and single predictor)\n",
    "- Mulitple Linear Regression.(multiple independent variable and multiple predictor)\n",
    "- Polynomial regression(Shape of regression line)"
   ]
  },
  {
   "cell_type": "markdown",
   "id": "8b69c040",
   "metadata": {},
   "source": [
    "# some important points before starting with linear regression:\n",
    "- 1. X-axis is always a independent axis.\n",
    "- 2. Y-axis is always a dependent axis.\n",
    "- 3. Y-axis is always predicted by using given data on xaxis.\n",
    "- 4. By using Linear line, Y-Axis can be predicted easily.\n",
    "- 5. As per currently available data in fig1:positive linear line: \n",
    "    - we can observe: x:1, Y:1; x:2,y:2\n",
    "    - what about x:7, y:?, at this stage we can predict Y by using Linear Regression.\n",
    "    \n",
    "    \n",
    " - If we are predicting Dependent (Y-axis) vairable on the basis of independent (X-axis) variable is known as Linear regression.\n",
    " - Linear regression is always having one independent variable and one dependent(target variable) variable."
   ]
  },
  {
   "cell_type": "markdown",
   "id": "408c87c6",
   "metadata": {},
   "source": [
    "# 1.3 What is best fit line?\n",
    "- Best fit line is a line touching most of the given data, which is mostly linear in linear regression modules.\n",
    "- y=mx+c\n",
    "- According to this equation by varying slope(m) and intercept we can get many straight line.\n",
    "- But this is not satisfied, as we can draw multiple lines and this will give infinite lines and much more time,but what is best fitting with given data is not yet found.\n",
    "- Lines going exactly very close or mostly touching to the given data points is known as best fit line which is required for each data set."
   ]
  },
  {
   "cell_type": "markdown",
   "id": "0fb7ba0a",
   "metadata": {},
   "source": [
    "![title](multiple_reg_lines.png)\n"
   ]
  },
  {
   "cell_type": "markdown",
   "id": "2a9636ef",
   "metadata": {},
   "source": [
    "# how to select best fit line:\n",
    "- line with a good R2 score and 0(null) error is known as best fit line. \n",
    "- There are underfiting and overfiting lines too, going to be discussed further.\n",
    "\n",
    "# 1. what is error:\n",
    "- Error= y - y predicted.\n",
    "![title](Error.png)\n",
    "# How to calculate error:\n",
    "- 1.Mean squared error(MSE), 2.Root Mean squared error(RMSE), 3.Mean Absolute Error (MAE).\n",
    "\n",
    "# 2.What is R2_score:\n",
    "- R2_score decides how well is our model performing compared to baseline model.\n",
    "- R2_score lies between -infinity to 1:\n",
    "- 1. if r2_score is near to 1 indicates it is close to zero error (good model),\n",
    "- 2. if r2_score is near to 0 indicates it is close to baseline model,\n",
    "- 3. if r2_score is -ve means it is worse model.\n",
    "# how to calculate r2_score:\n",
    "![title](r2_score.png)\n",
    "![title](r2_score_baseline.png)"
   ]
  },
  {
   "cell_type": "markdown",
   "id": "2373db15",
   "metadata": {},
   "source": [
    "# 1.4.Mathematical model of Linear Regression:\n",
    "\n",
    "![title](Linear_reg_math.png)"
   ]
  },
  {
   "cell_type": "markdown",
   "id": "150fc09b",
   "metadata": {},
   "source": [
    "# 1.5.Performing step by step mathematical problem of Linear Regression:\n",
    "- modules are already imported at start of topic.\n",
    "- Aim = To find best fit line."
   ]
  },
  {
   "cell_type": "code",
   "execution_count": 4,
   "id": "b1ed185f",
   "metadata": {},
   "outputs": [],
   "source": [
    "x=np.arange(1,6)\n",
    "y=np.array([3,4,2,4,5])"
   ]
  },
  {
   "cell_type": "code",
   "execution_count": 5,
   "id": "017fd0e1",
   "metadata": {},
   "outputs": [
    {
     "data": {
      "text/html": [
       "<div>\n",
       "<style scoped>\n",
       "    .dataframe tbody tr th:only-of-type {\n",
       "        vertical-align: middle;\n",
       "    }\n",
       "\n",
       "    .dataframe tbody tr th {\n",
       "        vertical-align: top;\n",
       "    }\n",
       "\n",
       "    .dataframe thead th {\n",
       "        text-align: right;\n",
       "    }\n",
       "</style>\n",
       "<table border=\"1\" class=\"dataframe\">\n",
       "  <thead>\n",
       "    <tr style=\"text-align: right;\">\n",
       "      <th></th>\n",
       "      <th>X</th>\n",
       "      <th>Y</th>\n",
       "    </tr>\n",
       "  </thead>\n",
       "  <tbody>\n",
       "    <tr>\n",
       "      <th>0</th>\n",
       "      <td>1</td>\n",
       "      <td>3</td>\n",
       "    </tr>\n",
       "    <tr>\n",
       "      <th>1</th>\n",
       "      <td>2</td>\n",
       "      <td>4</td>\n",
       "    </tr>\n",
       "    <tr>\n",
       "      <th>2</th>\n",
       "      <td>3</td>\n",
       "      <td>2</td>\n",
       "    </tr>\n",
       "    <tr>\n",
       "      <th>3</th>\n",
       "      <td>4</td>\n",
       "      <td>4</td>\n",
       "    </tr>\n",
       "    <tr>\n",
       "      <th>4</th>\n",
       "      <td>5</td>\n",
       "      <td>5</td>\n",
       "    </tr>\n",
       "  </tbody>\n",
       "</table>\n",
       "</div>"
      ],
      "text/plain": [
       "   X  Y\n",
       "0  1  3\n",
       "1  2  4\n",
       "2  3  2\n",
       "3  4  4\n",
       "4  5  5"
      ]
     },
     "execution_count": 5,
     "metadata": {},
     "output_type": "execute_result"
    }
   ],
   "source": [
    "dic = {'X':x, 'Y':y}\n",
    "df=pd.DataFrame(dic)\n",
    "df"
   ]
  },
  {
   "cell_type": "markdown",
   "id": "935d3367",
   "metadata": {},
   "source": [
    "# m and x are unknown: \n",
    "- find m(slope) by formula:\n",
    "![title](slope.png)\n",
    "- where,\n",
    "- x= given independent variable, x bar= mean of all x, y= given dependent variable, y bar= mean of y."
   ]
  },
  {
   "cell_type": "code",
   "execution_count": 11,
   "id": "88732708",
   "metadata": {},
   "outputs": [
    {
     "name": "stdout",
     "output_type": "stream",
     "text": [
      "mean of x is 3.0\n",
      "mean of y is 3.6\n"
     ]
    }
   ],
   "source": [
    "x_mean=x.mean()\n",
    "y_mean=y.mean()\n",
    "\n",
    "#xmean and y mean are nothing but x bar and y bar\n",
    "\n",
    "print(f'mean of x is {x_mean}')\n",
    "print(f'mean of y is {y_mean}')"
   ]
  },
  {
   "cell_type": "code",
   "execution_count": 15,
   "id": "0c9e9e31",
   "metadata": {},
   "outputs": [
    {
     "name": "stdout",
     "output_type": "stream",
     "text": [
      "The coefficient of regression (slope(m)) is 0.4\n"
     ]
    }
   ],
   "source": [
    "#x,x bar, y, ybar are known so we can find m from above formula:\n",
    "\n",
    "m = sum((x-x_mean)*(y-y_mean))/ sum((x-x_mean)**2)\n",
    "\n",
    "print(f'The coefficient of regression (slope(m)) is {m}')"
   ]
  },
  {
   "cell_type": "code",
   "execution_count": 17,
   "id": "ffdcbcf9",
   "metadata": {},
   "outputs": [
    {
     "name": "stdout",
     "output_type": "stream",
     "text": [
      "Intercept of line is 2.4\n"
     ]
    }
   ],
   "source": [
    "# y= mx+c: calculate C\n",
    "\n",
    "c = y_mean - m * x_mean\n",
    "\n",
    "print(f'Intercept of line is {c}')"
   ]
  },
  {
   "cell_type": "code",
   "execution_count": 34,
   "id": "56f804d5",
   "metadata": {},
   "outputs": [],
   "source": [
    "def linreg(x):\n",
    "    return (m*x)+c"
   ]
  },
  {
   "cell_type": "code",
   "execution_count": 35,
   "id": "25bb5afd",
   "metadata": {},
   "outputs": [
    {
     "data": {
      "text/plain": [
       "array([1, 2, 3, 4, 5])"
      ]
     },
     "execution_count": 35,
     "metadata": {},
     "output_type": "execute_result"
    }
   ],
   "source": [
    "x"
   ]
  },
  {
   "cell_type": "code",
   "execution_count": 36,
   "id": "020997da",
   "metadata": {},
   "outputs": [],
   "source": [
    "ypred = np.array(list(map(linreg, x)))"
   ]
  },
  {
   "cell_type": "code",
   "execution_count": 37,
   "id": "ddc26f4e",
   "metadata": {},
   "outputs": [
    {
     "data": {
      "text/plain": [
       "array([2.8, 3.2, 3.6, 4. , 4.4])"
      ]
     },
     "execution_count": 37,
     "metadata": {},
     "output_type": "execute_result"
    }
   ],
   "source": [
    "ypred"
   ]
  },
  {
   "cell_type": "code",
   "execution_count": 38,
   "id": "b508a332",
   "metadata": {},
   "outputs": [
    {
     "data": {
      "text/html": [
       "<div>\n",
       "<style scoped>\n",
       "    .dataframe tbody tr th:only-of-type {\n",
       "        vertical-align: middle;\n",
       "    }\n",
       "\n",
       "    .dataframe tbody tr th {\n",
       "        vertical-align: top;\n",
       "    }\n",
       "\n",
       "    .dataframe thead th {\n",
       "        text-align: right;\n",
       "    }\n",
       "</style>\n",
       "<table border=\"1\" class=\"dataframe\">\n",
       "  <thead>\n",
       "    <tr style=\"text-align: right;\">\n",
       "      <th></th>\n",
       "      <th>X</th>\n",
       "      <th>Actual Y</th>\n",
       "      <th>predicted Y</th>\n",
       "    </tr>\n",
       "  </thead>\n",
       "  <tbody>\n",
       "    <tr>\n",
       "      <th>0</th>\n",
       "      <td>1</td>\n",
       "      <td>3</td>\n",
       "      <td>2.8</td>\n",
       "    </tr>\n",
       "    <tr>\n",
       "      <th>1</th>\n",
       "      <td>2</td>\n",
       "      <td>4</td>\n",
       "      <td>3.2</td>\n",
       "    </tr>\n",
       "    <tr>\n",
       "      <th>2</th>\n",
       "      <td>3</td>\n",
       "      <td>2</td>\n",
       "      <td>3.6</td>\n",
       "    </tr>\n",
       "    <tr>\n",
       "      <th>3</th>\n",
       "      <td>4</td>\n",
       "      <td>4</td>\n",
       "      <td>4.0</td>\n",
       "    </tr>\n",
       "    <tr>\n",
       "      <th>4</th>\n",
       "      <td>5</td>\n",
       "      <td>5</td>\n",
       "      <td>4.4</td>\n",
       "    </tr>\n",
       "  </tbody>\n",
       "</table>\n",
       "</div>"
      ],
      "text/plain": [
       "   X  Actual Y  predicted Y\n",
       "0  1         3          2.8\n",
       "1  2         4          3.2\n",
       "2  3         2          3.6\n",
       "3  4         4          4.0\n",
       "4  5         5          4.4"
      ]
     },
     "execution_count": 38,
     "metadata": {},
     "output_type": "execute_result"
    }
   ],
   "source": [
    "dic={'X':x,'Actual Y': y, 'predicted Y':ypred}\n",
    "df=pd.DataFrame(dic)\n",
    "df"
   ]
  },
  {
   "cell_type": "code",
   "execution_count": 40,
   "id": "ac503713",
   "metadata": {},
   "outputs": [
    {
     "data": {
      "image/png": "[encoded data removed]",
      "text/plain": [
       "<Figure size 432x288 with 1 Axes>"
      ]
     },
     "metadata": {
      "needs_background": "light"
     },
     "output_type": "display_data"
    }
   ],
   "source": [
    "plt.scatter(x,y,color='red') #actual value\n",
    "plt.plot(x,ypred,color='blue') #predicted value\n",
    "\n",
    "plt.title('simple linear regression')\n",
    "plt.xlabel('x- axis')\n",
    "plt.ylabel('y-axis')\n",
    "plt.grid(True)\n",
    "plt.show()"
   ]
  },
  {
   "cell_type": "code",
   "execution_count": 46,
   "id": "90c48884",
   "metadata": {},
   "outputs": [],
   "source": [
    "#now calculating accuracy of model by r2_score\n",
    "r2 = sum((ypred-y_mean)**2)/sum(y-y_mean)**2"
   ]
  },
  {
   "cell_type": "code",
   "execution_count": 47,
   "id": "f7131f25",
   "metadata": {},
   "outputs": [
    {
     "name": "stdout",
     "output_type": "stream",
     "text": [
      "The R2 score is -: 8.112963841460672e+32\n"
     ]
    }
   ],
   "source": [
    "print(f'The R2 score is -: {r2*100}')"
   ]
  },
  {
   "cell_type": "markdown",
   "id": "af9f3438",
   "metadata": {},
   "source": [
    "- From predicted R2 score,we can justify the predicted model is not good.\n",
    "- score near 0 indicates that model is near baseline and score near 1 indicates model is highly accurate and -ve score indicates worst model"
   ]
  },
  {
   "cell_type": "markdown",
   "id": "df408a72",
   "metadata": {},
   "source": [
    "# 1.6 Create and predict model using Sklearn library, Most commonly used in ML.\n",
    "- This is simplest way to create and predict model.\n",
    "- The google company has made all above calculation in one library Scikit-learn (sklearn) and made it open source for easy and accurate calculations."
   ]
  },
  {
   "cell_type": "code",
   "execution_count": 53,
   "id": "3b741308",
   "metadata": {},
   "outputs": [],
   "source": [
    "import numpy as np\n",
    "import pandas as pd\n",
    "import matplotlib.pyplot as plt\n",
    "import seaborn as sns\n",
    "\n",
    "import warnings\n",
    "warnings.filterwarnings('ignore') #ignore all future based warnings"
   ]
  },
  {
   "cell_type": "code",
   "execution_count": 54,
   "id": "8f531bed",
   "metadata": {},
   "outputs": [],
   "source": [
    "# df = pd.read_csv('xyz.csv')\n",
    "x = np.arange(1,6)\n",
    "y = np.array([3,4,2,4,5])"
   ]
  },
  {
   "cell_type": "code",
   "execution_count": 55,
   "id": "b6b8f9b0",
   "metadata": {},
   "outputs": [
    {
     "data": {
      "text/html": [
       "<div>\n",
       "<style scoped>\n",
       "    .dataframe tbody tr th:only-of-type {\n",
       "        vertical-align: middle;\n",
       "    }\n",
       "\n",
       "    .dataframe tbody tr th {\n",
       "        vertical-align: top;\n",
       "    }\n",
       "\n",
       "    .dataframe thead th {\n",
       "        text-align: right;\n",
       "    }\n",
       "</style>\n",
       "<table border=\"1\" class=\"dataframe\">\n",
       "  <thead>\n",
       "    <tr style=\"text-align: right;\">\n",
       "      <th></th>\n",
       "      <th>X</th>\n",
       "      <th>Y</th>\n",
       "    </tr>\n",
       "  </thead>\n",
       "  <tbody>\n",
       "    <tr>\n",
       "      <th>0</th>\n",
       "      <td>1</td>\n",
       "      <td>3</td>\n",
       "    </tr>\n",
       "    <tr>\n",
       "      <th>1</th>\n",
       "      <td>2</td>\n",
       "      <td>4</td>\n",
       "    </tr>\n",
       "    <tr>\n",
       "      <th>2</th>\n",
       "      <td>3</td>\n",
       "      <td>2</td>\n",
       "    </tr>\n",
       "    <tr>\n",
       "      <th>3</th>\n",
       "      <td>4</td>\n",
       "      <td>4</td>\n",
       "    </tr>\n",
       "    <tr>\n",
       "      <th>4</th>\n",
       "      <td>5</td>\n",
       "      <td>5</td>\n",
       "    </tr>\n",
       "  </tbody>\n",
       "</table>\n",
       "</div>"
      ],
      "text/plain": [
       "   X  Y\n",
       "0  1  3\n",
       "1  2  4\n",
       "2  3  2\n",
       "3  4  4\n",
       "4  5  5"
      ]
     },
     "execution_count": 55,
     "metadata": {},
     "output_type": "execute_result"
    }
   ],
   "source": [
    "dict = {'X':x, 'Y':y}\n",
    "\n",
    "df = pd.DataFrame(dict)\n",
    "df"
   ]
  },
  {
   "cell_type": "code",
   "execution_count": 57,
   "id": "f78b3468",
   "metadata": {},
   "outputs": [
    {
     "name": "stdout",
     "output_type": "stream",
     "text": [
      "<class 'pandas.core.frame.DataFrame'>\n",
      "RangeIndex: 5 entries, 0 to 4\n",
      "Data columns (total 2 columns):\n",
      " #   Column  Non-Null Count  Dtype\n",
      "---  ------  --------------  -----\n",
      " 0   X       5 non-null      int32\n",
      " 1   Y       5 non-null      int32\n",
      "dtypes: int32(2)\n",
      "memory usage: 168.0 bytes\n"
     ]
    }
   ],
   "source": [
    "df.info() \n",
    "#all the parameters should me numerical and non null, if categorical than encode (one-hot encoding, label encoding) and if null than handle it with mean. "
   ]
  },
  {
   "cell_type": "code",
   "execution_count": 59,
   "id": "ad005bbf",
   "metadata": {},
   "outputs": [],
   "source": [
    "x = df.iloc[:, :-1].values \n",
    "#create 2D array and select 1st column\n",
    "#x=df.iloc[start row from : end row before, start column from : end column before]\n",
    "#.values converts row into array\n",
    "y = df.iloc[:,-1].values"
   ]
  },
  {
   "cell_type": "code",
   "execution_count": 61,
   "id": "61a84548",
   "metadata": {},
   "outputs": [],
   "source": [
    "#import library to train our data according to given data\n",
    "\n",
    "from sklearn.model_selection import train_test_split\n",
    "\n",
    "xtrain,xtest,ytrain,ytest = train_test_split(x,y,test_size=0.25,random_state=0)"
   ]
  },
  {
   "cell_type": "code",
   "execution_count": 62,
   "id": "ef4fb110",
   "metadata": {},
   "outputs": [],
   "source": [
    "#now creating model \n",
    "\n",
    "#step1: call the model class from package\n",
    "from sklearn.linear_model import LinearRegression\n",
    "\n",
    "#step2: create the object for the model \n",
    "linreg = LinearRegression()\n",
    "\n",
    "#step3: train model m and c\n",
    "linreg.fit(xtrain,ytrain)\n",
    "\n",
    "#step4: test model\n",
    "ypred=linreg.predict(xtest)"
   ]
  },
  {
   "cell_type": "code",
   "execution_count": 66,
   "id": "a1cf6835",
   "metadata": {},
   "outputs": [
    {
     "data": {
      "image/png": "[encoded data removed]",
      "text/plain": [
       "<Figure size 432x288 with 1 Axes>"
      ]
     },
     "metadata": {
      "needs_background": "light"
     },
     "output_type": "display_data"
    }
   ],
   "source": [
    "plt.scatter(xtrain,ytrain,color='red')\n",
    "plt.plot(xtest, ypred,color='blue')\n",
    "\n",
    "plt.title('Simple Linear Regression')\n",
    "plt.xlabel('x-axis')\n",
    "plt.ylabel('y-axis')\n",
    "plt.grid(True)\n",
    "plt.show()"
   ]
  },
  {
   "cell_type": "code",
   "execution_count": 67,
   "id": "1f829e5e",
   "metadata": {},
   "outputs": [
    {
     "data": {
      "text/html": [
       "<div>\n",
       "<style scoped>\n",
       "    .dataframe tbody tr th:only-of-type {\n",
       "        vertical-align: middle;\n",
       "    }\n",
       "\n",
       "    .dataframe tbody tr th {\n",
       "        vertical-align: top;\n",
       "    }\n",
       "\n",
       "    .dataframe thead th {\n",
       "        text-align: right;\n",
       "    }\n",
       "</style>\n",
       "<table border=\"1\" class=\"dataframe\">\n",
       "  <thead>\n",
       "    <tr style=\"text-align: right;\">\n",
       "      <th></th>\n",
       "      <th>x</th>\n",
       "      <th>Actual Y</th>\n",
       "      <th>Predicted Y</th>\n",
       "    </tr>\n",
       "  </thead>\n",
       "  <tbody>\n",
       "    <tr>\n",
       "      <th>0</th>\n",
       "      <td>3</td>\n",
       "      <td>2</td>\n",
       "      <td>4.142857</td>\n",
       "    </tr>\n",
       "    <tr>\n",
       "      <th>1</th>\n",
       "      <td>1</td>\n",
       "      <td>3</td>\n",
       "      <td>3.571429</td>\n",
       "    </tr>\n",
       "  </tbody>\n",
       "</table>\n",
       "</div>"
      ],
      "text/plain": [
       "   x  Actual Y  Predicted Y\n",
       "0  3         2     4.142857\n",
       "1  1         3     3.571429"
      ]
     },
     "execution_count": 67,
     "metadata": {},
     "output_type": "execute_result"
    }
   ],
   "source": [
    "dic = {\"x\": xtest.flatten(), \"Actual Y\": ytest, \"Predicted Y\":ypred}\n",
    "\n",
    "df=pd.DataFrame(dic)\n",
    "df"
   ]
  },
  {
   "cell_type": "markdown",
   "id": "fb9a69a9",
   "metadata": {},
   "source": [
    "- from above data actual and predicted y are having large gap indicates bad model"
   ]
  },
  {
   "cell_type": "code",
   "execution_count": 77,
   "id": "c9f5e70f",
   "metadata": {},
   "outputs": [
    {
     "name": "stdout",
     "output_type": "stream",
     "text": [
      "coeffient is-: [0.28571429]\n"
     ]
    }
   ],
   "source": [
    "print(f'coeffient is-: {linreg.coef_}' )"
   ]
  },
  {
   "cell_type": "code",
   "execution_count": 79,
   "id": "5f091e98",
   "metadata": {},
   "outputs": [
    {
     "data": {
      "text/plain": [
       "3.2857142857142856"
      ]
     },
     "execution_count": 79,
     "metadata": {},
     "output_type": "execute_result"
    }
   ],
   "source": [
    "linreg.intercept_"
   ]
  },
  {
   "cell_type": "code",
   "execution_count": 81,
   "id": "5cb7f7b9",
   "metadata": {},
   "outputs": [
    {
     "name": "stdout",
     "output_type": "stream",
     "text": [
      "Mean Absolute Error -: 1.3571428571428568\n",
      "Mean Square Error -: 2.4591836734693864\n",
      "Root Mean Square Error -: 1.5681784571500101\n",
      "R2_score -: -8.836734693877546\n"
     ]
    }
   ],
   "source": [
    "#checking error\n",
    "from sklearn.metrics import r2_score,mean_absolute_error,mean_squared_error\n",
    "\n",
    "print(f\"Mean Absolute Error -: {mean_absolute_error(ytest, ypred)}\")\n",
    "print(f\"Mean Square Error -: {mean_squared_error(ytest, ypred)}\")\n",
    "print(f\"Root Mean Square Error -: {np.sqrt(mean_squared_error(ytest, ypred))}\")\n",
    "print(f\"R2_score -: {r2_score(ytest, ypred)}\")"
   ]
  },
  {
   "cell_type": "markdown",
   "id": "b75e73d3",
   "metadata": {},
   "source": [
    "- As per analysis model is very bad, as we are having all errors very high, and r2_score is also -ve indicating a model is very worst."
   ]
  },
  {
   "cell_type": "code",
   "execution_count": null,
   "id": "4d54856a",
   "metadata": {},
   "outputs": [],
   "source": []
  }
 ],
 "metadata": {
  "kernelspec": {
   "display_name": "Python 3",
   "language": "python",
   "name": "python3"
  },
  "language_info": {
   "codemirror_mode": {
    "name": "ipython",
    "version": 3
   },
   "file_extension": ".py",
   "mimetype": "text/x-python",
   "name": "python",
   "nbconvert_exporter": "python",
   "pygments_lexer": "ipython3",
   "version": "3.8.8"
  }
 },
 "nbformat": 4,
 "nbformat_minor": 5
}
