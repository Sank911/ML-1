{
 "cells": [
  {
   "cell_type": "markdown",
   "id": "24a673b6",
   "metadata": {},
   "source": [
    "# advertising.csv\n",
    "1. divide dataset into x & y\n",
    "\n",
    "2. divide into training and testing set\n",
    "\n",
    "3. perform Linear Regression\n",
    "\n",
    "4. Display Regression Coefficient & do the interpretation of it\n",
    "\n",
    "5. show evalution metrics usng mae, mse, rmse and r2 score\n"
   ]
  },
  {
   "cell_type": "code",
   "execution_count": 1,
   "id": "f2655c96",
   "metadata": {},
   "outputs": [],
   "source": [
    "# import necessary modules\n",
    "\n",
    "import numpy as np\n",
    "import pandas as pd\n",
    "import matplotlib.pyplot as plt\n",
    "import seaborn as sns\n",
    "\n",
    "import warnings\n",
    "warnings.filterwarnings('ignore')"
   ]
  },
  {
   "cell_type": "code",
   "execution_count": 2,
   "id": "37479869",
   "metadata": {},
   "outputs": [
    {
     "data": {
      "text/html": [
       "<div>\n",
       "<style scoped>\n",
       "    .dataframe tbody tr th:only-of-type {\n",
       "        vertical-align: middle;\n",
       "    }\n",
       "\n",
       "    .dataframe tbody tr th {\n",
       "        vertical-align: top;\n",
       "    }\n",
       "\n",
       "    .dataframe thead th {\n",
       "        text-align: right;\n",
       "    }\n",
       "</style>\n",
       "<table border=\"1\" class=\"dataframe\">\n",
       "  <thead>\n",
       "    <tr style=\"text-align: right;\">\n",
       "      <th></th>\n",
       "      <th>Unnamed: 0</th>\n",
       "      <th>TV</th>\n",
       "      <th>radio</th>\n",
       "      <th>newspaper</th>\n",
       "      <th>sales</th>\n",
       "    </tr>\n",
       "  </thead>\n",
       "  <tbody>\n",
       "    <tr>\n",
       "      <th>0</th>\n",
       "      <td>1</td>\n",
       "      <td>230.1</td>\n",
       "      <td>37.8</td>\n",
       "      <td>69.2</td>\n",
       "      <td>22.1</td>\n",
       "    </tr>\n",
       "    <tr>\n",
       "      <th>1</th>\n",
       "      <td>2</td>\n",
       "      <td>44.5</td>\n",
       "      <td>39.3</td>\n",
       "      <td>45.1</td>\n",
       "      <td>10.4</td>\n",
       "    </tr>\n",
       "    <tr>\n",
       "      <th>2</th>\n",
       "      <td>3</td>\n",
       "      <td>17.2</td>\n",
       "      <td>45.9</td>\n",
       "      <td>69.3</td>\n",
       "      <td>9.3</td>\n",
       "    </tr>\n",
       "    <tr>\n",
       "      <th>3</th>\n",
       "      <td>4</td>\n",
       "      <td>151.5</td>\n",
       "      <td>41.3</td>\n",
       "      <td>58.5</td>\n",
       "      <td>18.5</td>\n",
       "    </tr>\n",
       "    <tr>\n",
       "      <th>4</th>\n",
       "      <td>5</td>\n",
       "      <td>180.8</td>\n",
       "      <td>10.8</td>\n",
       "      <td>58.4</td>\n",
       "      <td>12.9</td>\n",
       "    </tr>\n",
       "  </tbody>\n",
       "</table>\n",
       "</div>"
      ],
      "text/plain": [
       "   Unnamed: 0     TV  radio  newspaper  sales\n",
       "0           1  230.1   37.8       69.2   22.1\n",
       "1           2   44.5   39.3       45.1   10.4\n",
       "2           3   17.2   45.9       69.3    9.3\n",
       "3           4  151.5   41.3       58.5   18.5\n",
       "4           5  180.8   10.8       58.4   12.9"
      ]
     },
     "execution_count": 2,
     "metadata": {},
     "output_type": "execute_result"
    }
   ],
   "source": [
    "#read dataset\n",
    "df=pd.read_csv('Advertising.csv')\n",
    "df.head()"
   ]
  },
  {
   "cell_type": "code",
   "execution_count": 3,
   "id": "78c016d6",
   "metadata": {},
   "outputs": [
    {
     "data": {
      "text/plain": [
       "<AxesSubplot:>"
      ]
     },
     "execution_count": 3,
     "metadata": {},
     "output_type": "execute_result"
    },
    {
     "data": {
      "image/png": "[encoded data removed]",
      "text/plain": [
       "<Figure size 432x288 with 2 Axes>"
      ]
     },
     "metadata": {
      "needs_background": "light"
     },
     "output_type": "display_data"
    }
   ],
   "source": [
    "#check the correlation among data\n",
    "sns.heatmap(df.corr(),annot=True) #sales is having highest with tv i.e 0.78"
   ]
  },
  {
   "cell_type": "code",
   "execution_count": 4,
   "id": "e683e1d5",
   "metadata": {},
   "outputs": [],
   "source": [
    "#select sales on y axis as it needs to be predicted\n",
    "x=df.iloc[:,1:-1].values #[row:row,column:column]: 2D array\n",
    "y=df.iloc[:,-1].values   #1D array"
   ]
  },
  {
   "cell_type": "code",
   "execution_count": 5,
   "id": "63ed732b",
   "metadata": {},
   "outputs": [
    {
     "data": {
      "text/plain": [
       "Unnamed: 0   -0.051616\n",
       "newspaper     0.228299\n",
       "radio         0.576223\n",
       "TV            0.782224\n",
       "sales         1.000000\n",
       "Name: sales, dtype: float64"
      ]
     },
     "execution_count": 5,
     "metadata": {},
     "output_type": "execute_result"
    }
   ],
   "source": [
    "#As we want to predict sales find correlation with other rows\n",
    "df.corr()['sales'].sort_values()"
   ]
  },
  {
   "cell_type": "code",
   "execution_count": 6,
   "id": "7988d0f6",
   "metadata": {},
   "outputs": [],
   "source": [
    "#create module:\n",
    "\n",
    "from sklearn.model_selection import train_test_split\n",
    "xtrain,xtest,ytrain,ytest=train_test_split(x,y,random_state=1)\n",
    "\n",
    "from sklearn.linear_model import LinearRegression\n",
    "linreg=LinearRegression()\n",
    "linreg.fit(xtrain,ytrain)\n",
    "ypred=linreg.predict(xtest)"
   ]
  },
  {
   "cell_type": "code",
   "execution_count": 7,
   "id": "7021815e",
   "metadata": {},
   "outputs": [
    {
     "data": {
      "text/plain": [
       "array([0.04656457, 0.17915812, 0.00345046])"
      ]
     },
     "execution_count": 7,
     "metadata": {},
     "output_type": "execute_result"
    }
   ],
   "source": [
    "#check coefficient wrt columns\n",
    "linreg.coef_"
   ]
  },
  {
   "cell_type": "code",
   "execution_count": 8,
   "id": "5132027b",
   "metadata": {},
   "outputs": [
    {
     "data": {
      "text/plain": [
       "2.876966622317928"
      ]
     },
     "execution_count": 8,
     "metadata": {},
     "output_type": "execute_result"
    }
   ],
   "source": [
    "#intercept point will be single\n",
    "linreg.intercept_"
   ]
  },
  {
   "cell_type": "code",
   "execution_count": 9,
   "id": "6e02d593",
   "metadata": {},
   "outputs": [
    {
     "data": {
      "text/plain": [
       "<AxesSubplot:ylabel='Density'>"
      ]
     },
     "execution_count": 9,
     "metadata": {},
     "output_type": "execute_result"
    },
    {
     "data": {
      "image/png": "[encoded data removed]",
      "text/plain": [
       "<Figure size 432x288 with 1 Axes>"
      ]
     },
     "metadata": {
      "needs_background": "light"
     },
     "output_type": "display_data"
    }
   ],
   "source": [
    "#visaulize difference or error\n",
    "sns.distplot(ytest-ypred)"
   ]
  },
  {
   "cell_type": "code",
   "execution_count": 10,
   "id": "b0f79ffe",
   "metadata": {},
   "outputs": [
    {
     "data": {
      "text/html": [
       "<div>\n",
       "<style scoped>\n",
       "    .dataframe tbody tr th:only-of-type {\n",
       "        vertical-align: middle;\n",
       "    }\n",
       "\n",
       "    .dataframe tbody tr th {\n",
       "        vertical-align: top;\n",
       "    }\n",
       "\n",
       "    .dataframe thead th {\n",
       "        text-align: right;\n",
       "    }\n",
       "</style>\n",
       "<table border=\"1\" class=\"dataframe\">\n",
       "  <thead>\n",
       "    <tr style=\"text-align: right;\">\n",
       "      <th></th>\n",
       "      <th>Coefficiet</th>\n",
       "    </tr>\n",
       "  </thead>\n",
       "  <tbody>\n",
       "    <tr>\n",
       "      <th>TV</th>\n",
       "      <td>0.046565</td>\n",
       "    </tr>\n",
       "    <tr>\n",
       "      <th>radio</th>\n",
       "      <td>0.179158</td>\n",
       "    </tr>\n",
       "    <tr>\n",
       "      <th>newspaper</th>\n",
       "      <td>0.003450</td>\n",
       "    </tr>\n",
       "  </tbody>\n",
       "</table>\n",
       "</div>"
      ],
      "text/plain": [
       "           Coefficiet\n",
       "TV           0.046565\n",
       "radio        0.179158\n",
       "newspaper    0.003450"
      ]
     },
     "execution_count": 10,
     "metadata": {},
     "output_type": "execute_result"
    }
   ],
   "source": [
    "#convert x from array to df\n",
    "x=df.iloc[:,1:-1]\n",
    "#visualize coefficient values according to column names\n",
    "coef_df = pd.DataFrame(linreg.coef_, x.columns, columns=[\"Coefficiet\"])\n",
    "coef_df"
   ]
  },
  {
   "cell_type": "markdown",
   "id": "42da5524",
   "metadata": {},
   "source": [
    "1. one point increment in TV, will increase sales by 0.0457 dollars\n",
    "2. one point growth in radio, will increase sales by 0.1858 dollars\n",
    "3. one point growth in newspaper,will increase sales by 0.004 dollars"
   ]
  },
  {
   "cell_type": "code",
   "execution_count": 11,
   "id": "88d93eb7",
   "metadata": {},
   "outputs": [
    {
     "name": "stdout",
     "output_type": "stream",
     "text": [
      "MSE-: 1.9730456202283377\n",
      "RMSE-: 1.4046514230328953\n",
      "MAE-: 1.0668917082595224\n",
      "r2_score-:0.9156213613792232\n"
     ]
    }
   ],
   "source": [
    "from sklearn.metrics import mean_squared_error as mse, r2_score,mean_absolute_error as MAE\n",
    "\n",
    "print(f'MSE-: {mse(ytest, ypred)}')\n",
    "print(f'RMSE-: {np.sqrt(mse(ytest, ypred))}')\n",
    "print(f'MAE-: {MAE(ytest,ypred)}')\n",
    "print(f'r2_score-:{r2_score(ytest, ypred)}')"
   ]
  },
  {
   "cell_type": "markdown",
   "id": "29305005",
   "metadata": {},
   "source": [
    "- r2_score of 91.75 %, means we are having huge error as we can estimate from mse and mae and rmse which is bit high.\n",
    "- we can reduce that by removing small variant that is newspaper which is very less correlated\n",
    "- we can even check by changing random state values"
   ]
  },
  {
   "cell_type": "code",
   "execution_count": 12,
   "id": "8832b0be",
   "metadata": {},
   "outputs": [],
   "source": [
    "x=df.iloc[:,1:-2]\n",
    "y=df.iloc[:,-1]"
   ]
  },
  {
   "cell_type": "code",
   "execution_count": 13,
   "id": "47f386a9",
   "metadata": {},
   "outputs": [],
   "source": [
    "from sklearn.model_selection import train_test_split\n",
    "xtrain,xtest,ytrain,ytest=train_test_split(x,y,test_size=0.25,random_state=1)\n",
    "\n",
    "from sklearn.linear_model import LinearRegression\n",
    "linreg=LinearRegression()\n",
    "linreg.fit(xtrain,ytrain)\n",
    "ypred=linreg.predict(xtest)"
   ]
  },
  {
   "cell_type": "code",
   "execution_count": 14,
   "id": "9e57fdf6",
   "metadata": {},
   "outputs": [
    {
     "data": {
      "text/plain": [
       "array([0.04660234, 0.18117959])"
      ]
     },
     "execution_count": 14,
     "metadata": {},
     "output_type": "execute_result"
    }
   ],
   "source": [
    "#check coefficient wrt columns\n",
    "linreg.coef_"
   ]
  },
  {
   "cell_type": "code",
   "execution_count": 15,
   "id": "5a10c7b4",
   "metadata": {},
   "outputs": [
    {
     "data": {
      "text/plain": [
       "2.927237320266485"
      ]
     },
     "execution_count": 15,
     "metadata": {},
     "output_type": "execute_result"
    }
   ],
   "source": [
    "#intercept point will be single\n",
    "linreg.intercept_"
   ]
  },
  {
   "cell_type": "code",
   "execution_count": 16,
   "id": "4147c2f9",
   "metadata": {},
   "outputs": [
    {
     "data": {
      "text/plain": [
       "<AxesSubplot:xlabel='sales', ylabel='Density'>"
      ]
     },
     "execution_count": 16,
     "metadata": {},
     "output_type": "execute_result"
    },
    {
     "data": {
      "image/png": "[encoded data removed]",
      "text/plain": [
       "<Figure size 432x288 with 1 Axes>"
      ]
     },
     "metadata": {
      "needs_background": "light"
     },
     "output_type": "display_data"
    }
   ],
   "source": [
    "#visaulize difference or error\n",
    "sns.distplot(ytest-ypred)"
   ]
  },
  {
   "cell_type": "code",
   "execution_count": 17,
   "id": "1a96acec",
   "metadata": {},
   "outputs": [
    {
     "name": "stdout",
     "output_type": "stream",
     "text": [
      "MSE-: 1.9262760418667424\n",
      "RMSE-: 1.3879034699382888\n",
      "MAE-: 1.04775904112126\n",
      "r2_score-:0.9176214942248908\n"
     ]
    }
   ],
   "source": [
    "from sklearn.metrics import mean_squared_error as mse, r2_score,mean_absolute_error as MAE\n",
    "\n",
    "print(f'MSE-: {mse(ytest, ypred)}')\n",
    "print(f'RMSE-: {np.sqrt(mse(ytest, ypred))}')\n",
    "print(f'MAE-: {MAE(ytest,ypred)}')\n",
    "print(f'r2_score-:{r2_score(ytest, ypred)}')"
   ]
  },
  {
   "cell_type": "markdown",
   "id": "63ce8aa7",
   "metadata": {},
   "source": [
    "r2_score has been increased after deleting unwanted newspaper column"
   ]
  },
  {
   "cell_type": "code",
   "execution_count": 18,
   "id": "ea7006b6",
   "metadata": {},
   "outputs": [
    {
     "name": "stdout",
     "output_type": "stream",
     "text": [
      "random state:1 (2.927237320266485, 1.9262760418667424, 1.3879034699382888, 0.9176214942248908)\n",
      "random state:2 (3.2612428667010995, 5.577882596751814, 2.361754135542439, 0.759079765679978)\n",
      "random state:3 (3.2445472620395908, 3.7874283507834337, 1.946131637578361, 0.8844331674270747)\n",
      "random state:4 (3.13349796868855, 2.063260639420286, 1.4364054578775054, 0.9168230030278454)\n",
      "random state:5 (2.9961411148152894, 2.626027856090441, 1.620502346832747, 0.8837820471769763)\n",
      "random state:6 (2.9950917128394323, 1.8154952958319672, 1.3474031675159321, 0.9159450735475814)\n",
      "random state:7 (2.717884110700348, 2.4627432278137937, 1.5693129795594611, 0.9044096907001622)\n",
      "random state:8 (3.12321815851001, 3.601079751881091, 1.8976511143730006, 0.8674358084034821)\n",
      "random state:9 (3.035873377790745, 2.2729784304202085, 1.5076400201706668, 0.9071660170641258)\n",
      "random state:10 (3.3817469023369586, 6.113430712736465, 2.47253528038256, 0.8371146108867752)\n",
      "random state:11 (3.292973216603645, 4.263375201932486, 2.064794227503672, 0.8747604942253164)\n",
      "random state:12 (2.986238438499937, 2.7016251395740665, 1.6436621123497575, 0.9082892139541514)\n",
      "random state:13 (2.9041688183383165, 2.093289031332059, 1.446820317569552, 0.9330669780312201)\n",
      "random state:14 (2.9475416461129633, 4.215671259091054, 2.053209989039371, 0.8697779460808058)\n",
      "random state:15 (2.769746361601605, 2.9884338330990072, 1.728708718407762, 0.9042991180048902)\n",
      "random state:16 (3.06316401665595, 2.2907646779992334, 1.5135272306764862, 0.9076325571467151)\n",
      "random state:17 (3.081153987688346, 3.784155806716835, 1.9452906740939346, 0.8432383840565736)\n",
      "random state:18 (2.9905369658577587, 3.6470093292539696, 1.9097144627545684, 0.8787371334591034)\n",
      "random state:19 (2.7768309660682995, 2.7738422001410594, 1.6654855748823103, 0.8988547916989897)\n",
      "random state:20 (3.300914445479176, 4.869891696245545, 2.206783110377081, 0.8603818816420985)\n",
      "random state:21 (2.6282754265061907, 2.5434858705255206, 1.5948309849402602, 0.9223500515595615)\n",
      "random state:22 (2.9903795380543468, 2.3936527787694555, 1.5471434254035583, 0.9144668971475162)\n",
      "random state:23 (3.0330903881095725, 2.7058109115726396, 1.644934926242567, 0.9201289352067377)\n",
      "random state:24 (2.8599034883220114, 2.571234478633138, 1.6035069312706878, 0.8887320715881666)\n",
      "random state:25 (3.006585919594537, 3.116292323411017, 1.7653023320131362, 0.8814762864735818)\n",
      "random state:26 (2.7266935528746057, 2.4457831697354915, 1.5638999871268915, 0.8779974012172463)\n",
      "random state:27 (2.852438258342927, 2.463194519443263, 1.5694567593416722, 0.8983521339066185)\n",
      "random state:28 (3.0021032745500236, 2.6548590835965498, 1.6293738317514952, 0.9071760828005127)\n",
      "random state:29 (3.3404839975754275, 3.386639653080035, 1.8402824927385564, 0.9034016049909508)\n",
      "random state:30 (3.0748814620806986, 2.3730883269311254, 1.5404831472402174, 0.9202479913884773)\n",
      "random state:31 (3.044272702292213, 1.9311575616587546, 1.389660952052246, 0.9277259335895284)\n",
      "random state:32 (3.0300934261130905, 4.157549184095754, 2.039006911242763, 0.8275947202229953)\n",
      "random state:33 (2.539228757043153, 2.1692784469075788, 1.4728470548253063, 0.922106211553359)\n",
      "random state:34 (2.6553822954194057, 2.96803254482752, 1.7227978827556993, 0.901863250424532)\n",
      "random state:35 (3.0660916387231634, 3.965745832224893, 1.9914180455707668, 0.7901890962747293)\n",
      "random state:36 (2.95682762477745, 2.3831943229787127, 1.5437598009336533, 0.9131859617453891)\n",
      "random state:37 (2.9024683157404425, 2.614889736039258, 1.6170620693217863, 0.882141586418638)\n",
      "random state:38 (2.6480455495026227, 2.080743023418404, 1.4424780842073144, 0.8929394591556349)\n",
      "random state:39 (2.7563310902007725, 3.052295483407748, 1.7470819910375552, 0.9071298086582253)\n",
      "random state:40 (3.137477786283849, 4.639209688301516, 2.1538824685440745, 0.8197910553162648)\n",
      "random state:41 (2.6997450533780842, 3.2238054891304677, 1.7954958894774635, 0.8965849849682959)\n",
      "random state:42 (2.824518914100972, 2.8539947557761023, 1.6893770318599997, 0.8944787062601195)\n",
      "random state:43 (3.0966005749279955, 2.0227425644154264, 1.422231543882861, 0.9288766536642142)\n",
      "random state:44 (3.0145616928260974, 2.671862278205049, 1.6345832123832207, 0.8307741494819441)\n",
      "random state:45 (2.9787005977023675, 2.1802679243199456, 1.4765730338591267, 0.907575600467731)\n",
      "random state:46 (2.8213382526152166, 2.365121091211888, 1.5378950195679444, 0.8719403380162388)\n",
      "random state:47 (3.005772376695621, 4.415800980591715, 2.1013807319454787, 0.8414785654501997)\n",
      "random state:48 (2.8531327400983564, 2.017169461630863, 1.420270911351374, 0.9274553540273007)\n",
      "random state:49 (2.599259913420907, 4.631357717470894, 2.15205894841914, 0.805981291963793)\n",
      "random state:50 (2.7433547842342705, 2.066393792619088, 1.4374956669914132, 0.8819720442076631)\n",
      "random state:51 (3.006728493901278, 2.2007957892372114, 1.4835079336617014, 0.903298941768293)\n",
      "random state:52 (2.775116717076351, 3.790794467787072, 1.946996268046519, 0.8926379067990123)\n",
      "random state:53 (3.04722121893524, 2.1041887530644314, 1.450582211756518, 0.9200621228340287)\n",
      "random state:54 (2.8658188030514644, 2.112983123108421, 1.4536103752754455, 0.9190830832621266)\n",
      "random state:55 (3.132503523714579, 2.225489428552587, 1.4918074368203782, 0.9103698623602948)\n",
      "random state:56 (2.882682774316839, 2.8412374311663338, 1.6855970548047163, 0.8923968690231916)\n",
      "random state:57 (2.97287494582943, 1.919157512757509, 1.3853366063009773, 0.9315091869099171)\n",
      "random state:58 (3.0631859794499476, 5.262019857272085, 2.293909295781349, 0.8270706370312444)\n",
      "random state:59 (2.982846752067527, 2.081991538391561, 1.442910786705665, 0.9244900139853056)\n",
      "random state:60 (3.030555471770393, 2.186534689779925, 1.4786935753495127, 0.9222657646801459)\n",
      "random state:61 (2.8645023485001193, 2.0523122658292006, 1.4325893570137958, 0.8930268348251421)\n",
      "random state:62 (2.903740491039292, 4.2977150755648434, 2.0730931179194156, 0.8524998614970134)\n",
      "random state:63 (2.715902468871679, 2.397162759582848, 1.548277352279897, 0.8840162975995448)\n",
      "random state:64 (3.0293956617811197, 4.075892493161723, 2.018883972189022, 0.8637965171502712)\n",
      "random state:65 (2.873423867812795, 2.401388130776787, 1.5496412910014972, 0.9142733802794819)\n",
      "random state:66 (2.9766039960126953, 3.3452738158223214, 1.8290089709518436, 0.8797554942452591)\n",
      "random state:67 (2.9163296162889516, 2.957351890205507, 1.719695289929442, 0.8876734989083366)\n",
      "random state:68 (2.542719252312338, 2.830052030330693, 1.6822758484656115, 0.8892438574390875)\n",
      "random state:69 (2.9742243991351103, 2.1958349848250527, 1.4818350059386007, 0.9288312109603681)\n",
      "random state:70 (3.0168688420561676, 2.279789904786906, 1.509897315974469, 0.9100392965313754)\n",
      "random state:71 (2.9372411159091776, 4.532431814613956, 2.1289508718178434, 0.8310825142703804)\n",
      "random state:72 (3.1354871924458116, 2.5005606805485074, 1.581316122901587, 0.9100918769847799)\n",
      "random state:73 (3.0291932622215363, 3.68497062904005, 1.9196277318897146, 0.8428486378923975)\n",
      "random state:74 (3.1441934398284825, 3.3395817958416028, 1.8274522691007835, 0.884091302377106)\n",
      "random state:75 (3.114012479523062, 2.7277246955676593, 1.651582482217482, 0.9136386695299754)\n",
      "random state:76 (2.839577543333304, 2.9577532555468746, 1.7198119826152145, 0.8547663086516183)\n",
      "random state:77 (2.9078840610966292, 2.198632066964724, 1.4827784955834515, 0.9219660967772133)\n",
      "random state:78 (2.9420514229719092, 2.2217898426567397, 1.4905669534297141, 0.9040330557203117)\n",
      "random state:79 (2.8355557678483834, 2.33211859311501, 1.5271275628168755, 0.9079626059435844)\n",
      "random state:80 (3.0893811133045457, 4.122026756273486, 2.0302775072076935, 0.8591573648167716)\n",
      "random state:81 (2.9366856883982333, 2.899709776372589, 1.7028534218694775, 0.879188202773292)\n",
      "random state:82 (2.8417740434141816, 3.872018147363517, 1.9677444314146888, 0.8309612658914649)\n",
      "random state:83 (2.8100424489340163, 2.3482836393491415, 1.5324110543027094, 0.9176297014378004)\n",
      "random state:84 (2.8552688042693166, 2.244355644078241, 1.4981173665898948, 0.9199348005794089)\n",
      "random state:85 (2.8064804821823337, 3.3137315686350313, 1.8203657788024448, 0.8606336958061295)\n",
      "random state:86 (3.0915295846104396, 4.051335062696783, 2.0127928514123807, 0.8712001442497327)\n",
      "random state:87 (3.084392597895384, 4.003334681000403, 2.0008334965709675, 0.8477760243972844)\n",
      "random state:88 (2.850957544161858, 3.7445495828906252, 1.93508386973036, 0.8637004617018611)\n",
      "random state:89 (2.433342459397533, 3.263680888821503, 1.806566048840037, 0.8772110792613199)\n",
      "random state:90 (2.970209504318099, 2.7866766308594437, 1.669334187890323, 0.8428242358487922)\n",
      "random state:91 (3.1934689331561597, 2.1455689200563124, 1.4647760648154764, 0.9141134947981264)\n",
      "random state:92 (2.6493238197147306, 2.1664833800005483, 1.4718978836864154, 0.9181659289645144)\n",
      "random state:93 (2.9403131432898526, 2.879780443074271, 1.696991586035202, 0.8908940819365219)\n",
      "random state:94 (3.024625725008045, 3.7505656668109117, 1.9366377221387876, 0.8804585191531737)\n",
      "random state:95 (3.0488640156063695, 2.389008614141906, 1.5456418130155207, 0.9074122553432158)\n",
      "random state:96 (2.9875805858252793, 2.884691662747756, 1.698438006742594, 0.867620309391888)\n",
      "random state:97 (3.310334271846436, 2.7950984979953604, 1.6718548076897588, 0.9022898365855854)\n"
     ]
    },
    {
     "name": "stdout",
     "output_type": "stream",
     "text": [
      "random state:98 (3.1670445763111736, 2.5438987890240266, 1.5949604349400102, 0.9196920525739966)\n",
      "random state:99 (2.842226741665794, 1.9750902419250338, 1.4053790385248508, 0.9210240508594256)\n"
     ]
    }
   ],
   "source": [
    "from sklearn.model_selection import train_test_split\n",
    "for i in range(1,100):\n",
    "    xtrain,xtest,ytrain,ytest=train_test_split(x,y,random_state=i)\n",
    "\n",
    "    linreg=LinearRegression()\n",
    "    linreg.fit(xtrain,ytrain)\n",
    "    ypred=linreg.predict(xtest)\n",
    "    \n",
    "    print(f'random state:{i} {linreg.intercept_,(mse(ytest, ypred)),(np.sqrt(mse(ytest, ypred))),(r2_score(ytest, ypred))}')\n",
    "    "
   ]
  },
  {
   "cell_type": "markdown",
   "id": "4a43b8a3",
   "metadata": {},
   "source": [
    "# As we find best intercept fitting to data we get better r2_score, this process is also known as gradient descent (global minima point)\n",
    "- AS we vary random_state we get variable r2_score and intercpet too, hence easy to find best fit line."
   ]
  },
  {
   "cell_type": "markdown",
   "id": "2092e063",
   "metadata": {},
   "source": [
    "# Empowering Knowledge "
   ]
  },
  {
   "cell_type": "code",
   "execution_count": null,
   "id": "b49b3be9",
   "metadata": {},
   "outputs": [],
   "source": []
  }
 ],
 "metadata": {
  "kernelspec": {
   "display_name": "Python 3",
   "language": "python",
   "name": "python3"
  },
  "language_info": {
   "codemirror_mode": {
    "name": "ipython",
    "version": 3
   },
   "file_extension": ".py",
   "mimetype": "text/x-python",
   "name": "python",
   "nbconvert_exporter": "python",
   "pygments_lexer": "ipython3",
   "version": "3.8.8"
  }
 },
 "nbformat": 4,
 "nbformat_minor": 5
}
